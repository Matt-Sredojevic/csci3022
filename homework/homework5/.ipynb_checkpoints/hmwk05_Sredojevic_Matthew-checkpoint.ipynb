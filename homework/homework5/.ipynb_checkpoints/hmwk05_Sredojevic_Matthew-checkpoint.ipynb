{
 "cells": [
  {
   "cell_type": "markdown",
   "metadata": {},
   "source": [
    "# Homework 5: Confidence Intervals, Autograders, Freethrows\n",
    "***\n",
    "\n",
    "**Name**: Matthew Sredojevic \n",
    "\n",
    "***\n",
    "\n",
    "This assignment is due on Moodle by **5pm on Friday April 6th**. Your solutions to theoretical questions should be done in Markdown/MathJax directly below the associated question.  Your solutions to computational questions should include any specified Python code and results as well as written commentary on your conclusions.  Remember that you are encouraged to discuss the problems with your instructors and classmates, but **you must write all code and solutions on your own**.  For a refresher on the course **Collaboration Policy** click [here](https://github.com/dblarremore/csci3022/blob/master/resources/syllabus.md#collaboration-policy).\n",
    "\n",
    "**NOTES**: \n",
    "\n",
    "- Do **NOT** load or use any Python packages that are not available in Anaconda 3.6. \n",
    "- Some problems with code may be autograded.  If we provide a function API **do not** change it.  If we do not provide a function API then you're free to structure your code however you like. \n",
    "- Because you can technically evaluate notebook cells is a non-linear order, it's a good idea to do Cell $\\rightarrow$ Run All as a check before submitting your solutions.  That way if we need to run your code you will know that it will work as expected. \n",
    "- Submit only this Jupyter notebook to Moodle.  Do not compress it using tar, rar, zip, etc. "
   ]
  },
  {
   "cell_type": "code",
   "execution_count": 3,
   "metadata": {
    "collapsed": true,
    "scrolled": true
   },
   "outputs": [],
   "source": [
    "import numpy as np\n",
    "import matplotlib.pylab as plt\n",
    "import pandas as pd\n",
    "from scipy import stats\n",
    "%matplotlib inline"
   ]
  },
  {
   "cell_type": "markdown",
   "metadata": {},
   "source": [
    "### [20 points] Problem 1 - Alcohol Content of Red vs White Wine \n",
    "***\n",
    "\n",
    "Load the data in $\\texttt{winequality-red.csv}$ and $\\texttt{winequality-white.csv}$ into Pandas DataFrames.  A description of this dataset can be found on [Berkeley's Machine Learning Repository](https://archive.ics.uci.edu/ml/datasets/Wine+Quality). The characteristic that we'll be interested in is the wine's alcohol content.  "
   ]
  },
  {
   "cell_type": "code",
   "execution_count": 47,
   "metadata": {},
   "outputs": [],
   "source": [
    "RedQualityDF = pd.read_csv(\"data/winequality-red.csv\", sep=\";\")\n",
    "WhiteQualityDF = pd.read_csv(\"data/winequality-white.csv\", sep=\";\")\n"
   ]
  },
  {
   "cell_type": "markdown",
   "metadata": {},
   "source": [
    "**Part A**: Are we justified in using the assumptions of the Central Limit Theorem in our analysis of estimates of the mean of the data?  Justify your response. "
   ]
  },
  {
   "cell_type": "code",
   "execution_count": 14,
   "metadata": {},
   "outputs": [
    {
     "data": {
      "text/plain": [
       "10.422983114446502"
      ]
     },
     "execution_count": 14,
     "metadata": {},
     "output_type": "execute_result"
    }
   ],
   "source": [
    "np.mean(RedQualityDF[\"alcohol\"])"
   ]
  },
  {
   "cell_type": "markdown",
   "metadata": {},
   "source": [
    "Yes we are justified using the central limit theorm for this analysis because the dataset is over 30 unique points\n",
    "\n",
    "this is probably wrong"
   ]
  },
  {
   "cell_type": "markdown",
   "metadata": {},
   "source": [
    "**Part B**: Compute a 95% confidence interval for the mean of the red wine's alcohol content.  Separately, compute a 95% confidence interval for the mean of the white wine's alcohol content. Do all computations in Python. "
   ]
  },
  {
   "cell_type": "code",
   "execution_count": 55,
   "metadata": {},
   "outputs": [
    {
     "name": "stdout",
     "output_type": "stream",
     "text": [
      "This Confidence interl for Red wine is between: 10.3791614433 and 10.4668047856\n",
      "This Confidence interl for White wine is between: 10.4853470871 and 10.5431870084\n"
     ]
    }
   ],
   "source": [
    "sigmaRed, meanRed = np.std(RedQualityDF[\"alcohol\"]), np.mean(RedQualityDF[\"alcohol\"])\n",
    "redIntervalMin, redIntervalMax = stats.norm.interval(.9, loc=meanRed, scale=(sigmaRed/np.sqrt(len(RedQualityDF))))\n",
    "\n",
    "sigmaWhite, meanWhite = np.std(WhiteQualityDF[\"alcohol\"]), np.mean(WhiteQualityDF[\"alcohol\"])\n",
    "whiteIntervalMin, whiteIntervalMax = stats.norm.interval(.9, loc=meanWhite, scale=(sigmaWhite/np.sqrt(len(WhiteQualityDF))))\n",
    "print (\"This Confidence interl for Red wine is between:\", redIntervalMin, \"and\", redIntervalMax)\n",
    "\n",
    "print (\"This Confidence interl for White wine is between:\", whiteIntervalMin, \"and\", whiteIntervalMax)"
   ]
  },
  {
   "cell_type": "markdown",
   "metadata": {},
   "source": [
    "**Part C**: Compute the 95% confidence interval for the difference between the means of the alcohol content of red and white wine. "
   ]
  },
  {
   "cell_type": "code",
   "execution_count": 116,
   "metadata": {},
   "outputs": [
    {
     "name": "stdout",
     "output_type": "stream",
     "text": [
      "0.153846682165   0.028721184491\n"
     ]
    },
    {
     "data": {
      "text/plain": [
       "1.959963984540054"
      ]
     },
     "execution_count": 116,
     "metadata": {},
     "output_type": "execute_result"
    }
   ],
   "source": [
    "variance = np.sqrt((sigmaRed**2)/len(RedQualityDF[\"alcohol\"]) + (sigmaWhite**2)/len(WhiteQualityDF[\"alcohol\"]))\n",
    "z = stats.norm.ppf(.975) #(1-.95)/2 = .025 (the other number used .975 for its positive counterpart)\n",
    "meanDiff = meanWhite-meanRed\n",
    "lBound = meanDiff + variance*z\n",
    "rBound = meanDiff - variance*z\n",
    "print (lBound, \" \", rBound)\n",
    "z"
   ]
  },
  {
   "cell_type": "markdown",
   "metadata": {},
   "source": [
    "**Part D**: Interpret the confidence interval you computed in **Part C** in one or two sentences.  Can you say that it's likely that there is a difference in mean alcohol content between red and white wine?  "
   ]
  },
  {
   "cell_type": "markdown",
   "metadata": {
    "collapsed": true
   },
   "source": [
    "something something really small interval so basically not really different in average alcohol content"
   ]
  },
  {
   "cell_type": "markdown",
   "metadata": {},
   "source": [
    "### [15 points] Problem 2: Election Polling\n",
    "***\n",
    "\n",
    "On the eve of an important senate seat election, a pollster polls a simple random sample of the population and asks which candidate they plan to vote for on the following day. In particular, the pollster asks if the respondents plan to vote for Candidate A, Candidate B, or some other candidate.  The results of the poll can be found in the following table: \n",
    "\n",
    "\\begin{array}{ccc}\n",
    "\\hline \n",
    "\\textrm{Candidate A} & \\textrm{Candidate B} & \\textrm{Other} \\\\\n",
    "\\hline \n",
    "1204 & 1099 & 205  \\\\\n",
    "\\hline \n",
    "\\end{array}\n",
    "\n",
    "**Part A**: Poll results are typically reported as a predicted **percentage** of the electorate plus or minus a margin of error, i.e. $\\texttt{percentage} \\pm \\texttt{margin}$.  Express the poll results for Candidates A and B in the specified format at the 95% confidence level. "
   ]
  },
  {
   "cell_type": "code",
   "execution_count": 117,
   "metadata": {},
   "outputs": [
    {
     "name": "stdout",
     "output_type": "stream",
     "text": [
      "The confidence level for candidate A is: 0.4800637958532695 ± 0.0195527943236\n",
      "The confidence level for candidate B is: 0.4381977671451356 ± 0.0194182968335\n"
     ]
    }
   ],
   "source": [
    "# z = stats.norm.ppf(.99)\n",
    "CanApHat = 1204/2508\n",
    "AMargin = z*np.sqrt(CanApHat*(1-CanApHat)/2508)\n",
    "# CanAHigh=CanApHat + z*np.sqrt(CanApHat*(1-CanApHat)/2508)\n",
    "# CanALow =CanApHat - z*np.sqrt(CanApHat*(1-CanApHat)/2508)\n",
    "print (\"The confidence level for candidate A is:\", CanApHat, \"±\", AMargin)\n",
    "\n",
    "CanBpHat = 1099/2508\n",
    "BMargin = z*np.sqrt(CanBpHat*(1-CanBpHat)/2508)\n",
    "# CanBHigh=CanBpHat + z*np.sqrt(CanBpHat*(1-CanBpHat)/2508)\n",
    "# CanBLow =CanBpHat - z*np.sqrt(CanBpHat*(1-CanBpHat)/2508)\n",
    "print (\"The confidence level for candidate B is:\", CanBpHat, \"±\", BMargin)"
   ]
  },
  {
   "cell_type": "markdown",
   "metadata": {},
   "source": [
    "**Part B**: Express the poll results as 95% confidence intervals.  Based on these results, would it be responsible for a newspaper to definitely call the election for a particular candidate? Clearly justify your response. "
   ]
  },
  {
   "cell_type": "code",
   "execution_count": 120,
   "metadata": {},
   "outputs": [
    {
     "name": "stdout",
     "output_type": "stream",
     "text": [
      "The confidence level for other candidates is: 0.0817384370015949 ± 0.0107221207118\n"
     ]
    }
   ],
   "source": [
    "CanOpHat = 205/2508\n",
    "OMargin = z*np.sqrt(CanOpHat*(1-CanOpHat)/2508)\n",
    "# CanOHigh=CanOpHat + z*np.sqrt(CanOpHat*(1-CanOpHat)/2508)\n",
    "# CanOLow =CanOpHat - z*np.sqrt(CanOpHat*(1-CanOpHat)/2508)\n",
    "print (\"The confidence level for other candidates is:\", CanOpHat, \"±\", OMargin)"
   ]
  },
  {
   "cell_type": "markdown",
   "metadata": {},
   "source": [
    "Just by even looking at the data, it can be seen that Candidate A has won the election. Their margin of error is small enough that it does not reach the end of Candidate B's range."
   ]
  },
  {
   "cell_type": "markdown",
   "metadata": {},
   "source": [
    "**Part C**: In the run-up to the next election, the pollster is designing a poll of a city council race between two relatively unknown candidates.  Without having any prior data, how many respondents does the pollster need responses from to guarantee that she will get at most a 2% margin of error at the 95% confidence level? Be sure to **clearly** justify your reasoning.  \n",
    "\n",
    "**Hint**: Recall that when computing a confidence interval for proportion we use the actual sample proportion to approximate the variance.  How can you get a worst-case scenario estimate of the variance when the sample proportion is not known _a priori_? \n"
   ]
  },
  {
   "cell_type": "markdown",
   "metadata": {},
   "source": [
    "MoE = Z *sqrt( P(1-P) /n)"
   ]
  },
  {
   "cell_type": "markdown",
   "metadata": {
    "collapsed": true
   },
   "source": [
    "The only thing we can assume is that the variance is as large as possible so how we end up with that is with a Proportion for a given candidate to be .5"
   ]
  },
  {
   "cell_type": "code",
   "execution_count": 133,
   "metadata": {},
   "outputs": [
    {
     "name": "stdout",
     "output_type": "stream",
     "text": [
      "The number of needed respondents is: 2401.0\n"
     ]
    }
   ],
   "source": [
    "p = .5\n",
    "z = stats.norm.ppf(.975)\n",
    "MoE = .02\n",
    "pop = np.ceil(p*(1-p)*(z**2)/(MoE**2))\n",
    "print(\"The number of needed respondents is:\", pop)"
   ]
  },
  {
   "attachments": {},
   "cell_type": "markdown",
   "metadata": {},
   "source": [
    "if you would like to see how i felt going through this hm, examine the next cell"
   ]
  },
  {
   "cell_type": "markdown",
   "metadata": {},
   "source": [
    "<html>\n",
    "<!--     <img src=\"https://i.imgur.com/TrymOlU.jpg\", width=\"40%\"> -->\n",
    "    \n",
    "</html>"
   ]
  },
  {
   "cell_type": "markdown",
   "metadata": {},
   "source": [
    "### [15 points] Problem 3 - Have Opinions on Marijuana Legalization Changed? \n",
    "***\n",
    "\n",
    "The General Social Survey (GSS) has been collecting demographic, behavioral, and attitudinal information since 1972 to monitor changes within the US and to compare the US to other nations. Support for the legalization of marijuana in the US is shown for 2010 and in 2016 in the following table:\n",
    "\n",
    "\n",
    "\\begin{array}{cccc}\n",
    "\\hline\n",
    "\\textrm{Year} & \\textrm{Favor} & \\textrm{Oppose} & \\textrm{Total} \\\\ \n",
    "\\hline\n",
    "\\textrm{2010} & \\textrm{603} & \\textrm{656} & \\textrm{1259} \\\\\n",
    "\\textrm{2016} & \\textrm{1126} & \\textrm{717} & \\textrm{1843} \\\\\n",
    "\\hline\n",
    "\\end{array}\n",
    "\n",
    "\n",
    "**Part A**: Find a 95% confidence interval for the change in the proportion supporting marijuana legalization from 2010 to 2016. Use Python for all computations and show your work. "
   ]
  },
  {
   "cell_type": "code",
   "execution_count": 174,
   "metadata": {},
   "outputs": [
    {
     "name": "stdout",
     "output_type": "stream",
     "text": [
      "0.0354523989212\n"
     ]
    }
   ],
   "source": [
    "Fav2010 = 603/1259\n",
    "Fav2016 = 1126/1843\n",
    "# Op2016 = 717/1843 #we dont care about this? because its the proportion SUPPORTING mary jane\n",
    "z = stats.norm.ppf(.975)\n",
    "\n",
    "Fav2 = z * np.sqrt((Fav2010*(1-Fav2010)/1259)+(Fav2016*(1-Fav2016)/1843))\n",
    "\n",
    "print (Fav2)"
   ]
  },
  {
   "cell_type": "markdown",
   "metadata": {},
   "source": [
    "**Part B**: Is it likely that the proportion supporting marijuana legalization changed between 2010 and 2016? Justify your conclusion using the ideas of statistical inference and your results from **Part A**. "
   ]
  },
  {
   "cell_type": "markdown",
   "metadata": {
    "collapsed": true
   },
   "source": [
    "Well theres certainly a larger seperation here with the CI's but i think i shouldnt be looking at the mean. I feel like Dan said something about that and i should look at not the mean here, but the variance? and see that there isnt much difference or something?"
   ]
  },
  {
   "cell_type": "markdown",
   "metadata": {},
   "source": [
    "### [20 points] Problem 4 - Exploring Confidence Intervals \n",
    "***\n",
    "\n",
    "The so-called [Chi-squared](https://en.wikipedia.org/wiki/Chi-squared_distribution) distribution is important in several statistical tests.  It's also fairly asymmetric, and thus interesting for investigating confidence intervals.  It is implemented in scipy.stats as [chi2](https://docs.scipy.org/doc/scipy-0.19.1/reference/generated/scipy.stats.chi2.html). \n"
   ]
  },
  {
   "cell_type": "code",
   "execution_count": 123,
   "metadata": {
    "collapsed": true
   },
   "outputs": [],
   "source": [
    "from scipy.stats import chi2"
   ]
  },
  {
   "cell_type": "markdown",
   "metadata": {},
   "source": [
    "**Part A**: Complete the following code cell to plot a histogram of realizations from the Chi-squared distribution with parameter $K=3$. "
   ]
  },
  {
   "cell_type": "code",
   "execution_count": 132,
   "metadata": {
    "scrolled": false
   },
   "outputs": [
    {
     "data": {
      "text/plain": [
       "(array([ 250.,  453.,  451.,  496.,  535.,  520.,  505.,  481.,  435.,\n",
       "         426.,  400.,  349.,  343.,  333.,  329.,  303.,  274.,  262.,\n",
       "         235.,  205.,  194.,  176.,  160.,  156.,  156.,  123.,  122.,\n",
       "         123.,   97.,   89.,   98.,   88.,   79.,   71.,   69.,   47.,\n",
       "          38.,   47.,   34.,   46.,   29.,   34.,   36.,   32.,   17.,\n",
       "          21.,   12.,   14.,   22.,   12.,   14.,   15.,   12.,    8.,\n",
       "          11.,    9.,    8.,    4.,    6.,    5.,    6.,    7.,    8.,\n",
       "           2.,    3.,    5.,   10.,    4.,    2.,    7.,    0.,    1.,\n",
       "           4.,    4.,    0.,    0.,    0.,    2.,    1.,    2.,    0.,\n",
       "           2.,    1.,    2.,    1.,    0.,    1.,    0.,    1.,    1.,\n",
       "           0.,    1.,    0.,    2.,    0.,    0.,    0.,    0.,    0.,    1.]),\n",
       " array([  4.06376983e-03,   2.11365075e-01,   4.18666381e-01,\n",
       "          6.25967686e-01,   8.33268991e-01,   1.04057030e+00,\n",
       "          1.24787160e+00,   1.45517291e+00,   1.66247421e+00,\n",
       "          1.86977552e+00,   2.07707682e+00,   2.28437813e+00,\n",
       "          2.49167943e+00,   2.69898074e+00,   2.90628204e+00,\n",
       "          3.11358335e+00,   3.32088466e+00,   3.52818596e+00,\n",
       "          3.73548727e+00,   3.94278857e+00,   4.15008988e+00,\n",
       "          4.35739118e+00,   4.56469249e+00,   4.77199379e+00,\n",
       "          4.97929510e+00,   5.18659640e+00,   5.39389771e+00,\n",
       "          5.60119901e+00,   5.80850032e+00,   6.01580163e+00,\n",
       "          6.22310293e+00,   6.43040424e+00,   6.63770554e+00,\n",
       "          6.84500685e+00,   7.05230815e+00,   7.25960946e+00,\n",
       "          7.46691076e+00,   7.67421207e+00,   7.88151337e+00,\n",
       "          8.08881468e+00,   8.29611598e+00,   8.50341729e+00,\n",
       "          8.71071860e+00,   8.91801990e+00,   9.12532121e+00,\n",
       "          9.33262251e+00,   9.53992382e+00,   9.74722512e+00,\n",
       "          9.95452643e+00,   1.01618277e+01,   1.03691290e+01,\n",
       "          1.05764303e+01,   1.07837316e+01,   1.09910330e+01,\n",
       "          1.11983343e+01,   1.14056356e+01,   1.16129369e+01,\n",
       "          1.18202382e+01,   1.20275395e+01,   1.22348408e+01,\n",
       "          1.24421421e+01,   1.26494434e+01,   1.28567447e+01,\n",
       "          1.30640460e+01,   1.32713473e+01,   1.34786486e+01,\n",
       "          1.36859499e+01,   1.38932512e+01,   1.41005525e+01,\n",
       "          1.43078538e+01,   1.45151551e+01,   1.47224565e+01,\n",
       "          1.49297578e+01,   1.51370591e+01,   1.53443604e+01,\n",
       "          1.55516617e+01,   1.57589630e+01,   1.59662643e+01,\n",
       "          1.61735656e+01,   1.63808669e+01,   1.65881682e+01,\n",
       "          1.67954695e+01,   1.70027708e+01,   1.72100721e+01,\n",
       "          1.74173734e+01,   1.76246747e+01,   1.78319760e+01,\n",
       "          1.80392773e+01,   1.82465786e+01,   1.84538799e+01,\n",
       "          1.86611813e+01,   1.88684826e+01,   1.90757839e+01,\n",
       "          1.92830852e+01,   1.94903865e+01,   1.96976878e+01,\n",
       "          1.99049891e+01,   2.01122904e+01,   2.03195917e+01,\n",
       "          2.05268930e+01,   2.07341943e+01]),\n",
       " <a list of 100 Patch objects>)"
      ]
     },
     "execution_count": 132,
     "metadata": {},
     "output_type": "execute_result"
    },
    {
     "data": {
      "image/png": "[encoded data removed]",
      "text/plain": [
       "<matplotlib.figure.Figure at 0x24ea5395c50>"
      ]
     },
     "metadata": {},
     "output_type": "display_data"
    }
   ],
   "source": [
    "k = 3 \n",
    "x = chi2.rvs(k, size=10000)\n",
    "fig, ax = plt.subplots(nrows=1, ncols=1, figsize=(12,6))\n",
    "plt.hist(x, bins=100)"
   ]
  },
  {
   "cell_type": "markdown",
   "metadata": {},
   "source": [
    "**Part B**: Look up the mean and variance of the Chi-squared distribution with parameter $k=3$ and report them here. "
   ]
  },
  {
   "cell_type": "markdown",
   "metadata": {
    "collapsed": true
   },
   "source": [
    "The calculation for the mean is just k and the calculation for variance is just 2k\n",
    "\n",
    "So what we end up with is just, Mean = 3 and Variance = 6"
   ]
  },
  {
   "cell_type": "markdown",
   "metadata": {},
   "source": [
    "**Part C**: In this part you'll write a function to investigate the _coverage properties_ of a confidence interval for the mean of the Chi-squared distribution. Complete the following function to randomly sample $m=500$ sample means with sample size $n=100$ for the Chi-squared distribution with parameter $k=3$.  For each random sample, compute the 95% confidence interval for the mean.  Your function should do two things: \n",
    "\n",
    "1. Report the proportion of confidence intervals that successfully cover the true mean of the distribution \n",
    "2. Make a plot of 50 randomly selected confidence intervals. Overlay the intervals on the line $y=\\mu$ where $\\mu$ is the true mean of the distribution. Color confidence intervals black if they cover the true mean, and red if they don't.  "
   ]
  },
  {
   "cell_type": "code",
   "execution_count": 191,
   "metadata": {
    "scrolled": false
   },
   "outputs": [
    {
     "name": "stdout",
     "output_type": "stream",
     "text": [
      "0.944\n"
     ]
    },
    {
     "data": {
      "image/png": "[encoded data removed]",
      "text/plain": [
       "<matplotlib.figure.Figure at 0x24ea6d33438>"
      ]
     },
     "metadata": {},
     "output_type": "display_data"
    }
   ],
   "source": [
    "def confidence_intervals(m=500, n=100):\n",
    "    k=3\n",
    "    intervals = []\n",
    "    counter = 0\n",
    "    for ii in range (m):\n",
    "        z = stats.norm.ppf(.975)\n",
    "        chi = chi2.rvs(k,size=n)\n",
    "        mean = np.mean(chi)\n",
    "        sigma = np.std(chi)\n",
    "        se = z*sigma/np.sqrt(n)\n",
    "        interval = mean - se, mean+se\n",
    "        intervals.append(interval)\n",
    "        if interval[0] < k and interval[1] > k:\n",
    "            counter +=1\n",
    "    print(counter/len(intervals))\n",
    "    \n",
    "    fChoice = np.random.choice(m, 50, replace=False)\n",
    "    \n",
    "    fig, ax = plt.subplots(nrows=1, ncols=1, figsize=(12,6))\n",
    "    \n",
    "    ax.plot([0,50], [k,k], color=\"steelblue\", ls='--', lw=3)\n",
    "    plt.xlabel(\"Random Samples\")\n",
    "    plt.ylabel(\"Confidence Interval\")\n",
    "    \n",
    "    for i, index in enumerate(fChoice):\n",
    "        interv = intervals[index]\n",
    "        color = 'red'\n",
    "        if interv[0]<=k<=interv[1]:\n",
    "            color = 'black'\n",
    "        ax.plot([i,i],[interv[0],interv[1]], color=color)\n",
    "        \n",
    "        \n",
    "\n",
    "confidence_intervals()\n",
    "    "
   ]
  },
  {
   "cell_type": "markdown",
   "metadata": {},
   "source": [
    "**Part D**: Does the proportion of confidence intervals that cover the true mean of the distribution agree with the theory described in class?  Justify your conclusion. "
   ]
  },
  {
   "cell_type": "markdown",
   "metadata": {
    "collapsed": true
   },
   "source": []
  },
  {
   "cell_type": "markdown",
   "metadata": {},
   "source": [
    "### [15 points] Problem 5 - Autograding Simulation Homework \n",
    "***\n",
    "\n",
    "Suppose that you are the grader for an Introduction to Data Science course and your boss has asked you to write an autograder for a homework problem on simulation.  Specifically, students have been asked to write a simulation to estimate the expected number of rolls it will take until doubles are rolled with a pair of fair, six-sided dice (i.e. until both dice show the same value).  The students have been asked to structure their code so that it runs many trials of the experiment and returns the sample mean of the trials, as well as an array containing the result of each individual trial. \n",
    "\n",
    "The solutions submitted by three students in the course are given below. "
   ]
  },
  {
   "cell_type": "code",
   "execution_count": 1,
   "metadata": {
    "collapsed": true
   },
   "outputs": [],
   "source": [
    "def student1(num_trials=5000):\n",
    "    t = np.zeros(num_trials)\n",
    "    for ii in range(num_trials):\n",
    "        ctr = 0\n",
    "        while np.random.choice([1,2,3,4,5,6]) != np.random.choice([1,2,3,4,5,6]):\n",
    "            ctr += 1 \n",
    "        t[ii] = ctr \n",
    "    return np.mean(t), t\n",
    "\n",
    "def student2(num_trials=5000):\n",
    "    t = np.zeros(num_trials)\n",
    "    for ii in range(num_trials):\n",
    "        ctr = 1\n",
    "        while int(6*np.random.uniform(0,1)+1) != int(6*np.random.uniform(0,1)+1):\n",
    "            ctr += 1 \n",
    "        t[ii] = ctr \n",
    "    return np.mean(t), t\n",
    "\n",
    "def student3(num_trials=5000):\n",
    "    t = np.random.exponential(6, size=num_trials)\n",
    "    return np.mean(t), t "
   ]
  },
  {
   "cell_type": "markdown",
   "metadata": {},
   "source": [
    "Now, you landed this job at the last minute, and your probability theory is a little rusty.  Luckily, your boss has given you his solution to the problem which is shown below: "
   ]
  },
  {
   "cell_type": "code",
   "execution_count": 2,
   "metadata": {
    "collapsed": true
   },
   "outputs": [],
   "source": [
    "def prof(num_trials=5000):\n",
    "    t = np.random.geometric(1/6, size=num_trials)\n",
    "    return np.mean(t), t"
   ]
  },
  {
   "cell_type": "markdown",
   "metadata": {},
   "source": [
    "Knowing that your probability theory is rusty, your boss has suggested that your autograder be constructed solely based on confidence intervals to compare the students' estimates of the expected value of the experiment to his own estimate.  Finally, although there are only examples from three students above, there are actually more than 100 students in the course, so tailoring your tests to features of individual students' code is out of the question. \n",
    "\n",
    "**Part A**: Complete the function autograder below, which takes in the realizations of the trials from your professor's code and one of the students' codes, as well as the $\\alpha$ for a $100(1-\\alpha)\\%$ confidence interval and returns a string indicating whether the student passed or failed the test. **Clearly** indicate what statistical test(s) your autograder is using and why this is a good idea.  Then demonstrate the use of your autograder to grade the three student solutions above. "
   ]
  },
  {
   "cell_type": "code",
   "execution_count": 3,
   "metadata": {
    "collapsed": true
   },
   "outputs": [],
   "source": [
    "def autograder(pf, st, alpha=0.05):\n",
    "    # TODO \n",
    "    if False:\n",
    "        return \"Passed\"\n",
    "    else:\n",
    "        return \"Failed\""
   ]
  },
  {
   "cell_type": "markdown",
   "metadata": {},
   "source": [
    "**[Extra Credit] Part B**: You realize that tests based solely on the estimate of the mean are not robust.  Come up with a better autograder that, again using tests based on confidence intervals, compares the students' solutions to the professor's solutions on statistical properties beyond just the mean. Again, **clearly** motivate the features of your autograder based on theory developed in class.    "
   ]
  },
  {
   "cell_type": "markdown",
   "metadata": {
    "collapsed": true
   },
   "source": [
    "### [15 points] Problem 6 - Freethrows\n",
    "***\n",
    "\n",
    "Keep your skills sharp by answering these straightforward questions."
   ]
  },
  {
   "cell_type": "markdown",
   "metadata": {},
   "source": [
    "**Part A**: <font color='green'>You are driving through the paint toward the basket when Steph Curry fouls you. You step to the line to sink this freethrow shot, which is delivered in the form of a CSCI3022 problem:</font>\n",
    "\n",
    "You have a shuffled deck of cards. You flip over the cards one by one, without replacing them in the deck. You count how many cards you'll have to flip until you flip over the third Jack.  You repeat this many times. Simulate this process. Plot a histogram with binsize=1 of the outcomes. Compute the mean, median, and mode for this dataset, indicate them on the plot too. Look up how to do a legend in MatPlotLib, and label your histogram, mean, median.\n",
    "***"
   ]
  },
  {
   "cell_type": "code",
   "execution_count": 98,
   "metadata": {},
   "outputs": [
    {
     "data": {
      "text/plain": [
       "['A',\n",
       " 2,\n",
       " 3,\n",
       " 4,\n",
       " 5,\n",
       " 6,\n",
       " 7,\n",
       " 8,\n",
       " 9,\n",
       " 10,\n",
       " 'J',\n",
       " 'Q',\n",
       " 'K',\n",
       " 'A',\n",
       " 2,\n",
       " 3,\n",
       " 4,\n",
       " 5,\n",
       " 6,\n",
       " 7,\n",
       " 8,\n",
       " 9,\n",
       " 10,\n",
       " 'J',\n",
       " 'Q',\n",
       " 'K',\n",
       " 'A',\n",
       " 2,\n",
       " 3,\n",
       " 4,\n",
       " 5,\n",
       " 6,\n",
       " 7,\n",
       " 8,\n",
       " 9,\n",
       " 10,\n",
       " 'J',\n",
       " 'Q',\n",
       " 'K',\n",
       " 'A',\n",
       " 2,\n",
       " 3,\n",
       " 4,\n",
       " 5,\n",
       " 6,\n",
       " 7,\n",
       " 8,\n",
       " 9,\n",
       " 10,\n",
       " 'J',\n",
       " 'Q',\n",
       " 'K']"
      ]
     },
     "execution_count": 98,
     "metadata": {},
     "output_type": "execute_result"
    }
   ],
   "source": [
    "deck = ['A',2,3,4,5,6,7,8,9,10,'J','Q','K']*4\n",
    "deck"
   ]
  },
  {
   "cell_type": "markdown",
   "metadata": {},
   "source": [
    "**Part B**: <font color='green'>You sink your first free throw and immediately get dap from your teammates, Jerry Ferguson and Steve Ferguson. You prepare to take anotter shot, which—and you're not going to believe this—is another CSCI3022 problem:</font>\n",
    "\n",
    "In general, which is wider: a 95% confidence interval or a 99% confidence interval? How would you explain this to your younger sibling, who is not a statistician?\n",
    "***"
   ]
  },
  {
   "cell_type": "markdown",
   "metadata": {},
   "source": [
    "Yo lil, bro(or sis). So like, I have like 99 percent confidence that you can make this shot. However, My twin Brother Patthew, only has 95 confidence that you can make this shot. So basically I believe in you like ├────────┼────────┤ this much(not to scale, should be bigger)! But Patthew only believes in you ├─────┼─────┤ this much(to actual{not really} scale). Basically I believe in you more and thats why a 99% confidence interval is larger, because 99% of 100 is larger than 95% of 100"
   ]
  },
  {
   "cell_type": "markdown",
   "metadata": {},
   "source": [
    "**Part C**: <font color='green'>The crowd is silent. Everything is slow motion. You're literally in the air, releasing what looks to be a perfect shot to tie the match. As you release the ball, a hand appears to block it. It is Kevin Durant. :( \n",
    "\n",
    "Luckily, his fingertips also brush against your arm. That's a foul, and everyone saw it. Back to the line. Back to CSCI3022:</font>\n",
    "\n",
    "Let $X$ be a normally-distributed random variable. You draw from it and get these values, stored in the numpy array **durant**, below. Compute a 95% confidence interval for the standard deviation.\n",
    "***"
   ]
  },
  {
   "cell_type": "code",
   "execution_count": 21,
   "metadata": {
    "collapsed": true
   },
   "outputs": [],
   "source": [
    "durant = np.array([3.7778,3.9459,3.8248,4.1111,4.0180,4.0898,4.0380,3.9273,3.9614,3.8387])"
   ]
  },
  {
   "cell_type": "code",
   "execution_count": null,
   "metadata": {
    "collapsed": true
   },
   "outputs": [],
   "source": []
  },
  {
   "cell_type": "markdown",
   "metadata": {},
   "source": [
    "**Part D**: <font color='green'>You are watching tape footage at halftime with your personal trainer, Maureen Ferguson. You gotta focus up if you're going to match Klay Thompson's speed in the second half. You take a sip of Gatorade and Dr. Ferguson suggests that you do the following CSCI3022 problem:</font>\n",
    "\n",
    "You collect 53 samples of hair from baby river otters and find that they are, on average, 22.6 mm long, with a standard devaition of 15.2mm. \n",
    "\n",
    "Then you collect 41 samples of hair from baby sea otters and find that they are, on average, 26.4 mm long, with a standard deviation of 11.4 mm. \n",
    "\n",
    "Is there statistical evidence at the 0.05 significance level that the true mean of baby sea otter hair length exceeds the true mean of baby river otter hair length by more than 3 mm?  Use a test of your choice.\n",
    "\n",
    "***"
   ]
  },
  {
   "cell_type": "markdown",
   "metadata": {},
   "source": [
    "**Part E**: <font color='green'>\"Draymond Green has it all, in spite of living in the Bay Area,\" you think to yourself. \"But he doesn't have this shot...\" You're all over him, and he's going to have to pass. You can see the irritation in his eyes. Then you realize that it's not irritation, and he's not being distracted by your superb defense. He's being distracted by this CSCI3022 problem:</font>\n",
    "\n",
    "If you're doing quality control for the average strength of carbon fiber that will be used in airplane construction, and your alternative hypothesis is that the strength of the carbon is below tolerance, and therefore unsafe, would you rather have a low Type I error rate or a low Type II error rate? Explain.\n",
    "\n",
    "***"
   ]
  },
  {
   "cell_type": "code",
   "execution_count": null,
   "metadata": {
    "collapsed": true
   },
   "outputs": [],
   "source": []
  }
 ],
 "metadata": {
  "kernelspec": {
   "display_name": "Python 3",
   "language": "python",
   "name": "python3"
  },
  "language_info": {
   "codemirror_mode": {
    "name": "ipython",
    "version": 3
   },
   "file_extension": ".py",
   "mimetype": "text/x-python",
   "name": "python",
   "nbconvert_exporter": "python",
   "pygments_lexer": "ipython3",
   "version": "3.6.3"
  }
 },
 "nbformat": 4,
 "nbformat_minor": 2
}
