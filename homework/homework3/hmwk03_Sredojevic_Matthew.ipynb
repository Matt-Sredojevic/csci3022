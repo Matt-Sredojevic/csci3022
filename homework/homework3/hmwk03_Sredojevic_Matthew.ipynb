{
 "cells": [
  {
   "cell_type": "markdown",
   "metadata": {},
   "source": [
    "# Homework 3: Random Variables and Their Distributions\n",
    "***\n",
    "\n",
    "**Name**: Matthew Sredojevic \n",
    "\n",
    "***\n",
    "\n",
    "This assignment is due on Moodle by **5pm on Friday March 2nd**. Your solutions to theoretical questions should be done in Markdown/MathJax directly below the associated question.  Your solutions to computational questions should include any specified Python code and results as well as written commentary on your conclusions.  Remember that you are encouraged to discuss the problems with your instructors and classmates, but **you must write all code and solutions on your own**.  For a refresher on the course **Collaboration Policy** click [here](https://github.com/dblarremore/csci3022/blob/master/resources/syllabus.md#collaboration-policy).  \n",
    "\n",
    "**NOTES**: \n",
    "\n",
    "- Do **NOT** load or use any Python packages that are not available in Anaconda 3.6. \n",
    "- Some problems with code may be autograded.  If we provide a function API **do not** change it.  If we do not provide a function API then you're free to structure your code however you like. \n",
    "- Because you can technically evaluate notebook cells is a non-linear order, it's a good idea to do Cell $\\rightarrow$ Run All as a check before submitting your solutions.  That way if we need to run your code you will know that it will work as expected. \n",
    "- Submit only this Jupyter notebook to Moodle.  Do not compress it using tar, rar, zip, etc. \n",
    "\n",
    "### Work only 4 of the 5 problems below! Your choice."
   ]
  },
  {
   "cell_type": "code",
   "execution_count": 197,
   "metadata": {
    "collapsed": true,
    "scrolled": true
   },
   "outputs": [],
   "source": [
    "import pandas as pd\n",
    "import numpy as np\n",
    "import matplotlib.pylab as plt\n",
    "from scipy.special import binom\n",
    "from scipy.special import comb\n",
    "%matplotlib inline"
   ]
  },
  {
   "cell_type": "markdown",
   "metadata": {},
   "source": [
    "### [25 points] Problem 1\n",
    "***\n",
    "\n",
    "Let $X$ be the lifespan (in years) of a BF Otterich Rugged Trail T/A tire under normal driving conditions, and suppose $X$ is described by the following probability density function: \n",
    "\n",
    "$$\n",
    "f(x) = \\left\\{ \n",
    "\\begin{array}{ll}\n",
    "\\dfrac{15}{c x^3} & 1 \\leq x \\leq 15 \\\\\n",
    "0 & \\textrm{otherwise}\n",
    "\\end{array}\n",
    "\\right.\n",
    "$$\n",
    "\n",
    "**Part A**: Determine the value of $c$ such that $f(x)$ is a valid PDF. "
   ]
  },
  {
   "cell_type": "markdown",
   "metadata": {
    "collapsed": true
   },
   "source": [
    "$$\\int_1^{15} \\frac{15}{cx^3} = 1$$\n",
    "$$\\frac{15}{c} \\int_1^{15} \\frac{1}{x^3} = 1$$\n",
    "$$\\frac{1}{c}\\int_1^{15} x^{-3} = \\frac{1}{15}$$\n",
    "$$-\\frac{1}{2*x^2} \\mid_1^{15} = \\frac{c}{15}$$\n",
    "$$-\\frac{1}{2*(15)^2} - (-\\frac{1}{2*(1)^2}) = \\frac{c}{-15}$$\n",
    "$$\\frac{1}{2} - \\frac{1}{450} = \\frac{c}{15}$$\n",
    "$$(\\frac{1}{2} - \\frac{1}{450}) * 15 = c$$\n",
    "$$c = 7.4\\overline{66}$$"
   ]
  },
  {
   "cell_type": "markdown",
   "metadata": {},
   "source": [
    "**Part B**: Compute the cumulative distribution function $F(y)$ for $X$. "
   ]
  },
  {
   "cell_type": "markdown",
   "metadata": {},
   "source": [
    "$$F(y) = \\frac{15}{7.4\\overline{66}}\\frac{1}{2x^2} \\big|_{0}^{y}$$"
   ]
  },
  {
   "cell_type": "markdown",
   "metadata": {},
   "source": [
    "**Part C**: Use the cdf you computed in **Part B** to find the probability that a single tire goes longer than 5 years without failing. "
   ]
  },
  {
   "cell_type": "markdown",
   "metadata": {
    "collapsed": true
   },
   "source": [
    "$$F(5) = 1-\\frac{15}{7.4\\overline{66}}\\frac{1}{2x^2} \\Big|_{1}^{5}$$\n",
    "$$ = 1-\\frac{15}{7.4\\overline{66}} * (\\frac{1}{2} - \\frac{1}{50})$$\n",
    "$$ = 1-.96429$$\n",
    "or **3.569%**"
   ]
  },
  {
   "cell_type": "markdown",
   "metadata": {},
   "source": [
    "**Part D**: Use the cdf you computed in **Part B** to determine the number of years within which $62.5\\%$ of all tires will need to be replaced. In other words, determine the 62.5th percentile of the distribution of $X$. "
   ]
  },
  {
   "cell_type": "markdown",
   "metadata": {
    "collapsed": true
   },
   "source": [
    "$$ = \\frac{15}{7.4\\overline{66}} * (\\frac{1}{2} - \\frac{1}{2x^2}) = .625$$\n",
    "1.627 years (but this might only be for 1, not sure)"
   ]
  },
  {
   "cell_type": "markdown",
   "metadata": {},
   "source": [
    "**Part E**: What is the probability that all four BF Otterich Rugged Trail T/A tires on a vehicle last longer than 5 years without failing? "
   ]
  },
  {
   "cell_type": "markdown",
   "metadata": {
    "collapsed": true
   },
   "source": [
    "Part C but like, 4 times\n",
    "\n",
    ".03569^4"
   ]
  },
  {
   "cell_type": "code",
   "execution_count": 198,
   "metadata": {},
   "outputs": [
    {
     "name": "stdout",
     "output_type": "stream",
     "text": [
      "1.62250555293121e-06\n"
     ]
    }
   ],
   "source": [
    "print(pow(.03569,4))"
   ]
  },
  {
   "cell_type": "markdown",
   "metadata": {},
   "source": [
    "### [25 points] Problem 2\n",
    "***\n",
    "\n",
    "You are a data-driven transportation engineer investigating the effect that a particular [vertical lift bridge](https://en.wikipedia.org/wiki/Vertical-lift_bridge) has on city traffic.  Every time a boat passes under the bridge, cars must stop while the bridge is raised to accommodate the height of the boat.  As both boat and car traffic increases, city planners are considering building a new taller bridge that will never impede the flow of traffic. As part of a larger simulation of traffic congestion, you need to decide how to model the arrival of boats at the bridge.  From your Intro to Data Science class you remember that the time _between_ independent arrivals are usually modeled by an Exponential distribution.  Finally, you have access to a report that says on average 10 boats cross under the bridge per day.\n",
    "\n",
    "Answer the following questions about this scenario. **Note** that for **Parts B-D** you should clearly express the computation you're doing with math, but feel free to do any fancy function evaluations with Python. \n",
    "\n",
    "**Part A**:  Assuming the between-boat times do in-fact follow $Exp(10)$, what distribution would you expect the **number** of boats that cross under the bridge on a given day to follow?  What are the parameter(s) of the distribution? "
   ]
  },
  {
   "cell_type": "markdown",
   "metadata": {
    "collapsed": true
   },
   "source": [
    "$Pois(k)$ will follow the formula $ \\frac{\\lambda^k}{k!} e^{-\\lambda}$ with $\\lambda$ as a parameter"
   ]
  },
  {
   "cell_type": "markdown",
   "metadata": {},
   "source": [
    "**Part B**:  What is the probability that 13 boats cross under the bridge on a particular day?"
   ]
  },
  {
   "cell_type": "markdown",
   "metadata": {
    "collapsed": true
   },
   "source": [
    "$Pois(13) = \\frac{10^{13}}{13!} e^{-10}$"
   ]
  },
  {
   "cell_type": "code",
   "execution_count": 199,
   "metadata": {},
   "outputs": [
    {
     "name": "stdout",
     "output_type": "stream",
     "text": [
      "7.291%\n"
     ]
    }
   ],
   "source": [
    "numer = pow(10,13)\n",
    "dem = 13*12*11*10*9*8*7*6*5*4*3*2\n",
    "print(\"{:.3f}%\".format(numer/dem * pow(2.71828,-10)*100))"
   ]
  },
  {
   "cell_type": "markdown",
   "metadata": {},
   "source": [
    "**Part C**:  What is the probability that 8 boats or fewer cross under the bridge on a particular day?"
   ]
  },
  {
   "cell_type": "markdown",
   "metadata": {
    "collapsed": true
   },
   "source": [
    "$P(X \\leq 8) = F_x(8)$\n",
    "$$ = \\int_0^8\\frac{10^k}{k!}e^{-10}$$\n",
    "$$ = e^{-10}\\int_0^8\\frac{10^k}{k!}$$"
   ]
  },
  {
   "cell_type": "code",
   "execution_count": 200,
   "metadata": {},
   "outputs": [
    {
     "name": "stdout",
     "output_type": "stream",
     "text": [
      "4.204%\n"
     ]
    }
   ],
   "source": [
    "def findSum(n):\n",
    "    summ = 0\n",
    "    fact = 1\n",
    "    for i in range(n):\n",
    "        fact *= i+1\n",
    "    for i in range(n):\n",
    "        summ += pow(10,i+1)/fact * pow(2.71828,-10)\n",
    "    print(\"{:.3f}%\".format(summ*100))\n",
    "findSum(5)"
   ]
  },
  {
   "cell_type": "markdown",
   "metadata": {},
   "source": [
    "**Part D**: What is the probability that between 2 and 4 hours pass between two boat crossings? "
   ]
  },
  {
   "cell_type": "markdown",
   "metadata": {
    "collapsed": true
   },
   "source": [
    "So now that we are looking at hours instead of days, so i will use the alternative poisson formula\n",
    "$$P(X=2)=\\frac{e^{-rt} (rt^{k})}{k!}$$\n",
    "$$=\\frac{e^{-2} (2^{2})}{2!}$$\n",
    "$$=.2707$$\n",
    "**27.07%**"
   ]
  },
  {
   "cell_type": "markdown",
   "metadata": {},
   "source": [
    "**Part F**: Write a function boat_count that takes as its sole argument the rate parameter $\\lambda$ with units boats per day. Your function should simulate boat arrivals at the bridge by sampling between-boat times from $Exp(\\lambda)$ via Numpy's [random.exponential](https://docs.scipy.org/doc/numpy-1.13.0/reference/generated/numpy.random.exponential.html) function and return the number of boats that pass under the bridge on a single simulated day. \n",
    "\n",
    "**Note**: Do not change the API for this function. In other words, please keep the name of the function, its input parameter, and its desired output the same. Of course, the inner workings of this function and the actual value that it returns are in your hands!"
   ]
  },
  {
   "cell_type": "code",
   "execution_count": 230,
   "metadata": {},
   "outputs": [
    {
     "data": {
      "text/plain": [
       "8"
      ]
     },
     "execution_count": 230,
     "metadata": {},
     "output_type": "execute_result"
    }
   ],
   "source": [
    "def boat_count(lam):\n",
    "    boatsPHour = lam/24\n",
    "    dayTime = 0\n",
    "    boats = 0\n",
    "    while dayTime <=24:\n",
    "        boatTime = np.random.exponential(1/boatsPHour)\n",
    "        dayTime += boatTime\n",
    "        if dayTime <=24:\n",
    "            boats +=1\n",
    "        \n",
    "    return boats\n",
    "boat_count(10)"
   ]
  },
  {
   "cell_type": "markdown",
   "metadata": {},
   "source": [
    "**Part G**: Write a function boat_count_sim that takes as arguments the rate parameter $\\lambda$ with units boats per day and an integer number of days to simulate. Your function should use the function you wrote in **Part F** to simulate many independent days of boat crossings and estimate the probability that 8 boats or fewer cross under the bridge on a particular day. For $\\lambda = 10$, does your estimate agree with the by-hand computation you did in **Part C**?  \n",
    "\n",
    "**Note**: Do not change the API for this function. "
   ]
  },
  {
   "cell_type": "code",
   "execution_count": 245,
   "metadata": {},
   "outputs": [
    {
     "data": {
      "text/plain": [
       "'The probability that 8 or fewer boats come on a given day is 33.40%'"
      ]
     },
     "execution_count": 245,
     "metadata": {},
     "output_type": "execute_result"
    }
   ],
   "source": [
    "def boat_count_sim(lam, num_days=int(1e3)):\n",
    "    lessThan8 = 0\n",
    "    for i in range (0, num_days):\n",
    "        if boat_count(lam) <=8:\n",
    "            lessThan8 +=1\n",
    "            \n",
    "    return(\"The probability that 8 or fewer boats come on a given day is {:.2f}%\".format(lessThan8/num_days*100))\n",
    "boat_count_sim(10)"
   ]
  },
  {
   "cell_type": "markdown",
   "metadata": {},
   "source": [
    "**Part H**: Write a function boat_time_sim that takes as arguments the rate parameter $\\lambda$ with units boats per day and an integer number of boat arrivals to simulate. Your function should sample boat arrivals via [np.random.exponential](https://docs.scipy.org/doc/numpy-1.13.0/reference/generated/numpy.random.exponential.html) and estimate the probability that boats arrive between 1 and 2 hours apart.  For $\\lambda = 10$, does your estimate agree with the by-hand computation you did in **Part D**?  \n",
    "\n",
    "**Note**: Do not change the API for this function.  "
   ]
  },
  {
   "cell_type": "code",
   "execution_count": 246,
   "metadata": {},
   "outputs": [
    {
     "data": {
      "text/plain": [
       "'The probability that the time between boats is between 1 and 2 hours is 24.10'"
      ]
     },
     "execution_count": 246,
     "metadata": {},
     "output_type": "execute_result"
    }
   ],
   "source": [
    "def boat_time_sim(lam, num_boats=int(1e3)):\n",
    "    boatCount = 0;\n",
    "    for i in range(0,num_boats):\n",
    "        boatsPHour = lam/24\n",
    "        boatTime = np.random.exponential(1/boatsPHour)\n",
    "        if boatTime<=2 and boatTime >=1:\n",
    "            boatCount +=1\n",
    "    \n",
    "    return(\"The probability that the time between boats is between 1 and 2 hours is {:.2f}\".format(boatCount/num_boats*100))\n",
    "boat_time_sim(10)"
   ]
  },
  {
   "cell_type": "markdown",
   "metadata": {},
   "source": [
    "### [25 points] Problem 3 \n",
    "***\n",
    "\n",
    "Let $X =$ the leading digit of a randomly selected number from a large accounting\n",
    "ledger. For example, if we randomly draw the number \\$20,695, then $X = 2.$\n",
    "People who make up numbers to commit accounting fraud tend to give $X$ a\n",
    "(discrete) uniform distribution, i.e., $P(X = x) = \\frac{1}{9}$, for $x \\in \\{1, ..., 9\\}$. However,\n",
    "there is empirical evidence that suggests that _naturally occurring_ numbers (e.g.,\n",
    "numbers in a non-fraudulent accounting ledgers) have leading digits that do not\n",
    "follow a uniform distribution. Instead, they follow a distribution defined by the following probability mass function:\n",
    "\n",
    "$$\n",
    "f(x) = \\log_{10}\\left( \\frac{x+1}{x} \\right) \\quad \\textrm{for } x = 1, 2, \\ldots, 9\n",
    "$$"
   ]
  },
  {
   "cell_type": "markdown",
   "metadata": {},
   "source": [
    "**Part A**: Write a function pmf_natural that implements $f(x)$. Your function should take in an integer $x$ and return $f(x) = P(X = x)$.  Use your function to argue that $f(x)$ is a well-defined probability mass function. "
   ]
  },
  {
   "cell_type": "code",
   "execution_count": 204,
   "metadata": {},
   "outputs": [],
   "source": [
    "def pmf_natural(x):\n",
    "    log_var = (x+1)/x\n",
    "    test = np.log10(log_var)\n",
    "    return test"
   ]
  },
  {
   "cell_type": "markdown",
   "metadata": {},
   "source": [
    "**Part B**: Use the function you wrote above to make stacked bar plots describing the pmf of the naturally occurring numbers as well as the discrete uniform distribution.  Make sure that the $x$- and $y$-limits on your plots are the same so that the two distributions are easy to compare. "
   ]
  },
  {
   "cell_type": "code",
   "execution_count": 205,
   "metadata": {},
   "outputs": [
    {
     "data": {
      "image/png": "[encoded data removed]",
      "text/plain": [
       "<matplotlib.figure.Figure at 0x252ba3cbf98>"
      ]
     },
     "metadata": {},
     "output_type": "display_data"
    },
    {
     "data": {
      "image/png": "[encoded data removed]",
      "text/plain": [
       "<matplotlib.figure.Figure at 0x252ba6e56a0>"
      ]
     },
     "metadata": {},
     "output_type": "display_data"
    }
   ],
   "source": [
    "leading_int = (1,2,3,4,5,6,7,8,9)\n",
    "y_pos = np.arange(len(leading_int))\n",
    "y_pmf = []\n",
    "y_dud = []\n",
    "for i in range(1,10):\n",
    "    y_pmf.append(pmf_natural(i))\n",
    "    y_dud.append(1/9)\n",
    "plt.bar(y_pos, y_pmf, align=\"center\", alpha=.5)\n",
    "plt.xticks(y_pos, leading_int)\n",
    "plt.ylim([0, 0.32])\n",
    "plt.ylabel('Probability')\n",
    "plt.title(\"PMF of the naturally occurring numbers\")\n",
    "\n",
    "plt.show()\n",
    "\n",
    "plt.bar(y_pos, y_dud, align=\"center\", alpha=.5)\n",
    "plt.xticks(y_pos, leading_int)\n",
    "plt.ylim([0, 0.32])\n",
    "plt.ylabel('Probability')\n",
    "plt.title(\"Discrete uniform distribution\")\n",
    "\n",
    "plt.show()"
   ]
  },
  {
   "cell_type": "markdown",
   "metadata": {},
   "source": [
    "**Part C**: Write a function cdf_natural that implements the cumulative distribution function $F(y)$ for $X$ and use it to compute the probability that the leading digit in a number is at most 4 and at most 5. "
   ]
  },
  {
   "cell_type": "code",
   "execution_count": 206,
   "metadata": {},
   "outputs": [
    {
     "name": "stdout",
     "output_type": "stream",
     "text": [
      "The probability the leading number is at most 4: 69.90%\n",
      "The probability the leading number is at most 5: 77.82%\n"
     ]
    }
   ],
   "source": [
    "def cdf_natural(y):\n",
    "    p=0\n",
    "    for i in range(1,y+1):\n",
    "        p += pmf_natural(i)\n",
    "    return p*100\n",
    "print(\"The probability the leading number is at most 4: {:.2f}%\".format(cdf_natural(4)))\n",
    "print(\"The probability the leading number is at most 5: {:.2f}%\".format(cdf_natural(5)))"
   ]
  },
  {
   "cell_type": "markdown",
   "metadata": {},
   "source": [
    "**Part D**: The data in tax_data.txt contains the taxable income for individuals in 1978. Use Pandas and the information from **Parts A-D** to determine whether or not the dataset is likely fraudulent.  In addition to code and any graphical summaries, make sure to clearly justify your conclusion in words. "
   ]
  },
  {
   "cell_type": "code",
   "execution_count": 259,
   "metadata": {},
   "outputs": [],
   "source": [
    "taxDF = pd.read_csv(\"tax_data.txt\", delim_whitespace=True)\n",
    "taxDF.head()\n",
    "ones = 0\n",
    "twos = 0\n",
    "threes = 0\n",
    "fours = 0\n",
    "fives = 0\n",
    "sixes = 0\n",
    "sevens = 0\n",
    "eights = 0\n",
    "nines = 0\n",
    "total = 0\n",
    "# A slight modification was made to tax_data to make the headers more friendly\n",
    "\n",
    "for i in range (1,len(taxDF)+1):\n",
    "    lead = str(taxDF.loc[i, \"Tax Incomes\"])\n",
    "    print\n",
    "    if lead[0] == \"1\":\n",
    "        ones+=1\n",
    "    if lead[0] == \"2\":\n",
    "        twos+=1\n",
    "    if lead[0] == \"3\":\n",
    "        threes+=1\n",
    "    if lead[0] == \"4\":\n",
    "        fours+=1\n",
    "    if lead[0] == \"5\":\n",
    "        fives+=1\n",
    "    if lead[0] == \"6\":\n",
    "        sixes+=1\n",
    "    if lead[0] == \"7\":\n",
    "        sevens+=1\n",
    "    if lead[0] == \"8\":\n",
    "        eights+=1\n",
    "    if lead[0] == \"9\":\n",
    "        nines+=1\n",
    "    total+=1"
   ]
  },
  {
   "cell_type": "code",
   "execution_count": 260,
   "metadata": {},
   "outputs": [
    {
     "name": "stdout",
     "output_type": "stream",
     "text": [
      "Leading number: 1\n",
      "Actual: 0.3138073985665039\n",
      "Calculated: 0.3010299956639812\n",
      "Difference: 0.013\n",
      "\n",
      "Leading number: 2\n",
      "Actual: 0.2049048674111366\n",
      "Calculated: 0.17609125905568124\n",
      "Difference: 0.029\n",
      "\n",
      "Leading number: 3\n",
      "Actual: 0.11826659979557762\n",
      "Calculated: 0.12493873660829993\n",
      "Difference: 0.007\n",
      "\n",
      "Leading number: 4\n",
      "Actual: 0.08569868649098193\n",
      "Calculated: 0.09691001300805642\n",
      "Difference: 0.011\n",
      "\n",
      "Leading number: 5\n",
      "Actual: 0.06914809195197978\n",
      "Calculated: 0.07918124604762482\n",
      "Difference: 0.010\n",
      "\n",
      "Leading number: 6\n",
      "Actual: 0.049912072982598706\n",
      "Calculated: 0.06694678963061322\n",
      "Difference: 0.017\n",
      "\n",
      "Leading number: 7\n",
      "Actual: 0.03934813385221913\n",
      "Calculated: 0.05799194697768673\n",
      "Difference: 0.019\n",
      "\n",
      "Leading number: 8\n",
      "Actual: 0.037672124278649285\n",
      "Calculated: 0.05115252244738129\n",
      "Difference: 0.013\n",
      "\n",
      "Leading number: 9\n",
      "Actual: 0.037672124278649285\n",
      "Calculated: 0.05115252244738129\n",
      "Difference: 0.013\n",
      "\n"
     ]
    },
    {
     "data": {
      "image/png": "[encoded data removed]",
      "text/plain": [
       "<matplotlib.figure.Figure at 0x252b92f7b70>"
      ]
     },
     "metadata": {},
     "output_type": "display_data"
    }
   ],
   "source": [
    "def compare(x,num):\n",
    "    c = x/(len(taxDF)-1)\n",
    "    cNoZero = x/total\n",
    "    calc = pmf_natural(num)\n",
    "    return c,calc, cNoZero\n",
    "def compareAll():\n",
    "    a = 0\n",
    "    b = 0\n",
    "    c = 0\n",
    "    for i in range(9):\n",
    "        print(\"Leading number: {}\".format(i+1))\n",
    "        if i+1 == 1:\n",
    "            a,b,c = compare(ones, i+1)\n",
    "        if i+1 == 2:\n",
    "            a,b,c = compare(twos, i+1)\n",
    "        if i+1 == 3:\n",
    "            a,b,c = compare(threes, i+1)\n",
    "        if i+1 == 4:\n",
    "            a,b,c = compare(fours, i+1)\n",
    "        if i+1 == 5:\n",
    "            a,b,c = compare(fives, i+1)\n",
    "        if i+1 == 6:\n",
    "            a,b,c = compare(sixes, i+1)\n",
    "        if i+1 == 7:\n",
    "            a,b,c = compare(sevens, i+1)\n",
    "        if i+1 == 8:\n",
    "            a,b,c = compare(eights, i+1)\n",
    "        if i+1 == 9:\n",
    "            diff = compare(nines, i+1)\n",
    "        print(\"Actual: {}\".format(a))\n",
    "#         print(\"Actual (without 0 tax return): {}\".format(c))\n",
    "        print(\"Calculated: {}\".format(b))\n",
    "        print(\"Difference: {:.3f}\".format(abs(a-b)))\n",
    "        print()\n",
    "        plt.bar([1,2,3,4,5,6,7,8,9],[ones,twos,threes,fours,fives,sixes,sevens,eights,nines],color=\"steelblue\")\n",
    "compareAll()"
   ]
  },
  {
   "cell_type": "markdown",
   "metadata": {},
   "source": [
    "To me, it seems that the dada is **Not** fradulent. There isnt not an exact distribution of the numbers but they are fairly close. However, throughout the data, there are also tax returns with a value of **0** which may make things different\n",
    "\n",
    "(after checking, the 0 tax return values do not change data by much)"
   ]
  },
  {
   "cell_type": "markdown",
   "metadata": {},
   "source": [
    "### [25 points] Problem 4\n",
    "***\n",
    "\n",
    "You are the team manager for the CU intramural Quidditch team, the Boulder Beaters, and you've just made it to the national championship series against the Stanford Snitching Snitches. The typical Quidditch championship is a best of 11 series, so the first team to win 6 matches is declared the winner.  Furthermore, based on a rigorous statistical analysis of regular season play, the probability that the Boulder Beaters win any one match against the Snitching Snitches is given by $p = 0.55$.  \n",
    "\n",
    "**Part A**: What is the probability that you win the 11-game series on the 8th match played? \n"
   ]
  },
  {
   "cell_type": "markdown",
   "metadata": {
    "collapsed": true
   },
   "source": [
    "Find the probability of Given that we've won 5 matches in 7, then multiply by the chance that you win a game\n",
    "${7 \\choose 5}$ => 21 so $21*(.55^6 * .45^2)$ => 0.11771 => 11.77% chance that they win on the 8th game\n"
   ]
  },
  {
   "cell_type": "markdown",
   "metadata": {},
   "source": [
    "**Part B**: What is the probability that you win the 11-game series in any valid number of matches? "
   ]
  },
  {
   "cell_type": "markdown",
   "metadata": {
    "collapsed": true
   },
   "source": [
    "We need to take the sum of the chance that you win anywhere from game 11 to game 6\n",
    "$${10 \\choose 5}*(.55^6 * .45^5) \\approx 0.12872$$\n",
    "$${9 \\choose 5}*(.55^6 * .45^4) \\approx 0.14302$$\n",
    "$${8 \\choose 5}*(.55^6 * .45^3) \\approx 0.14125$$\n",
    "$${7 \\choose 5}*(.55^6 * .45^2) \\approx 0.11771$$\n",
    "$${6 \\choose 5}*(.55^6 * .45) \\approx 0.07474$$\n",
    "$$(.55^6) \\approx 0.02768$$\n",
    "\n",
    "**.63312 => 63.312%**"
   ]
  },
  {
   "cell_type": "markdown",
   "metadata": {},
   "source": [
    "**Part C**: The winner of the champsionship will take home \\$10,000 to use for equipment and victory parties in the following season. Because the stakes are so high, you've decided to hire a famous Quidditch consultant, Bludger Bob, to help you prepare for each match. With Bob's help your probability of winning any given match increases to $p = 0.7$.  Bludger Bob charges a fee of \\$100 per game, but as a testament to his confidence in his abilities, only charges you the \\$100 for games that you win and only if you win the series.  So, if you play a 11-game series and win you will take home \\$10,000 minus \\$600 for Bludger Bob's fees, for a total payout of \\$9,400.  What is the expected payout for an 11-game series?   "
   ]
  },
  {
   "cell_type": "markdown",
   "metadata": {
    "collapsed": true
   },
   "source": [
    "Woo we now have a 70% chance of winning..lets do Part B again\n",
    "$${10 \\choose 5}*(.7^6 * .3^5) \\approx 0.072$$\n",
    "$${9 \\choose 5}*(.7^6 * .3^4) \\approx 0.120$$\n",
    "$${8 \\choose 5}*(.7^6 * .3^3) \\approx 0.178$$\n",
    "$${7 \\choose 5}*(.7^6 * .3^2) \\approx 0.222$$\n",
    "$${6 \\choose 5}*(.7^6 * .3) \\approx 0.212$$\n",
    "$$.7^6 \\approx .118$$\n",
    "$$\\approx .922$$\n",
    "$.922* 9400$ =**\\$8666.80**"
   ]
  },
  {
   "cell_type": "markdown",
   "metadata": {},
   "source": [
    "**Part D**: This year the National Intramural Quidditch Association (NIQA) is implementing an experimental rule.  As the team with the best record in the regular season you will get to choose the length of the championship series.  Specifically, you can choose the series length to be anywhere from $N=3, 5, 7, \\ldots, 99$ games long.  Assuming that you plan to use Bludger Bob's services and considering the fact that you have a better than even chance of winning each game, explain the trade-offs between choosing a short series vs. a long series in terms of Expected Payout. \n"
   ]
  },
  {
   "cell_type": "markdown",
   "metadata": {
    "collapsed": true
   },
   "source": [
    "The higher the number of games, the higher the probability that you win, however, the lower the winnings are because you have to pay Bob more.\n",
    "So the lower the number of games, the lower the probability that you win, but the higher the payout. The expected payout will be maximized somewhere between this low and high"
   ]
  },
  {
   "cell_type": "markdown",
   "metadata": {},
   "source": [
    "**Part E**: Write a function optimal_series that takes in $p$, the probability that your team wins an individual game, then computes the Expected Payout for each series of length $N=3, 5, 7, \\ldots 99$ and returns the optimal series length.  In addition to returning the optimal series length, your function should also produce a plot of Expected Payout vs Series Length. You may write any additional helper functions that you like, but you should not change the API for the function optimal_series. "
   ]
  },
  {
   "cell_type": "code",
   "execution_count": 250,
   "metadata": {},
   "outputs": [
    {
     "data": {
      "text/plain": [
       "'Best payout at 15 games'"
      ]
     },
     "execution_count": 250,
     "metadata": {},
     "output_type": "execute_result"
    },
    {
     "data": {
      "image/png": "[encoded data removed]",
      "text/plain": [
       "<matplotlib.figure.Figure at 0x252ba6f7358>"
      ]
     },
     "metadata": {},
     "output_type": "display_data"
    }
   ],
   "source": [
    "def optimal_series(p):\n",
    "    expectedPayout = []\n",
    "    seriesLength = []\n",
    "    for i in range(3,100,2):\n",
    "        winChance = 0\n",
    "        seriesLength.append(i)\n",
    "#         winChance = pow(p,np.ceil(i/2))\n",
    "        for j in range(1,int((i+1)/2)+1):\n",
    "            winChance += comb(i-j, (i-1)/2)*pow(p,(i+1)/2) *pow(1-p,i-j-(i-1)/2)\n",
    "        exPay = winChance * (10000-((i+1)/2)*100)\n",
    "        expectedPayout.append(exPay)\n",
    "        plt.bar(seriesLength,expectedPayout)\n",
    "    return (\"Best payout at {} games\".format(np.argmax(expectedPayout)*2+3))\n",
    "#     return expectedPayout\n",
    "optimal_series(.7)"
   ]
  },
  {
   "cell_type": "markdown",
   "metadata": {},
   "source": [
    "### [25 points] Problem 5\n",
    "***\n",
    "\n",
    "The card game \"War\" is fun for small children. The rules are [here](https://www.bicyclecards.com/how-to-play/war/). Assume that the value of each card in the deck, in decreasing order, is A K Q J 10 9 8 7 6 5 4 3 2. For example, Q is of higher value than J. \n",
    "\n",
    "Create a simulation of the game War. Your simulation must:\n",
    "\n",
    "- initialize a single deck of 52 standard cards, shuffled.\n",
    "- deal half of those cards to each player.\n",
    "- simulate the game of War between two players until one player has all 52 cards, while recording the number of rounds that have passed.\n",
    "- for counting purposes, a round ends when the winner places cards on the bottom of their stack. \n",
    "- if a player runs out of cards mid-War, that player loses. \n",
    "- arbitrarily decide that one player is first and another second so that when cards are placed on the bottom of the winner's stack, they remain in the order they were played.  "
   ]
  },
  {
   "cell_type": "markdown",
   "metadata": {
    "collapsed": true
   },
   "source": [
    "**Part A**: For any fixed order of the cards, the game is completely non-random. This means that shuffling the deck randomly makes the duration of the game a random variable. Use your simulation to compute the expected value of the duration of a game of war. "
   ]
  },
  {
   "cell_type": "code",
   "execution_count": null,
   "metadata": {
    "collapsed": true
   },
   "outputs": [],
   "source": []
  },
  {
   "cell_type": "markdown",
   "metadata": {
    "collapsed": true
   },
   "source": [
    "**Part B**: What happens to the expected duration if the K, Q, and J cards are all now assumed to have _equal_ rank?"
   ]
  },
  {
   "cell_type": "code",
   "execution_count": null,
   "metadata": {
    "collapsed": true
   },
   "outputs": [],
   "source": []
  },
  {
   "cell_type": "markdown",
   "metadata": {},
   "source": [
    "**Part C**: Suppose that before the game starts, Player 1 gives all of their 2s and 3s to Player 2, and Player 2 gives all their As and Ks to Player 1. Does this tend to make the game longer or shorter?"
   ]
  },
  {
   "cell_type": "code",
   "execution_count": null,
   "metadata": {
    "collapsed": true
   },
   "outputs": [],
   "source": []
  }
 ],
 "metadata": {
  "kernelspec": {
   "display_name": "Python 3",
   "language": "python",
   "name": "python3"
  },
  "language_info": {
   "codemirror_mode": {
    "name": "ipython",
    "version": 3
   },
   "file_extension": ".py",
   "mimetype": "text/x-python",
   "name": "python",
   "nbconvert_exporter": "python",
   "pygments_lexer": "ipython3",
   "version": "3.6.3"
  }
 },
 "nbformat": 4,
 "nbformat_minor": 2
}
